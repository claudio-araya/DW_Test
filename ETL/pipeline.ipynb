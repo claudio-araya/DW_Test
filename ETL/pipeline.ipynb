{
 "cells": [
  {
   "cell_type": "code",
   "execution_count": 1,
   "id": "1a791ec2",
   "metadata": {},
   "outputs": [],
   "source": [
    "import sqlite3\n",
    "import json\n",
    "import os\n",
    "from datetime import datetime, timezone, timedelta\n",
    "\n",
    "conn = sqlite3.connect('../DB/analytics.db')\n",
    "cur = conn.cursor()"
   ]
  },
  {
   "cell_type": "code",
   "execution_count": 2,
   "id": "c6f3d00e",
   "metadata": {},
   "outputs": [],
   "source": [
    "def load_json(filename):\n",
    "    filepath = os.path.join(\"..\", \"sample_analytics_dataset\", filename)\n",
    "    with open(filepath, 'r', encoding='utf-8') as f:\n",
    "        return json.load(f)\n"
   ]
  },
  {
   "cell_type": "code",
   "execution_count": 3,
   "id": "7f3bd346",
   "metadata": {},
   "outputs": [],
   "source": [
    "accounts = load_json('sample_analytics.accounts.json')"
   ]
  },
  {
   "cell_type": "code",
   "execution_count": 4,
   "id": "41d44b54",
   "metadata": {},
   "outputs": [],
   "source": [
    "for account in accounts:\n",
    "    cur.execute(\n",
    "        \"INSERT OR IGNORE INTO account (account_id, limit_amount) VALUES (?, ?)\",\n",
    "        (account['account_id'], account['limit'])\n",
    "    )\n",
    "conn.commit()"
   ]
  },
  {
   "cell_type": "code",
   "execution_count": 5,
   "id": "912e297a",
   "metadata": {},
   "outputs": [],
   "source": [
    "for account in accounts:\n",
    "    for product in account['products']:\n",
    "        cur.execute(\n",
    "            \"INSERT OR IGNORE INTO product (product_name) VALUES (?)\",\n",
    "            (product,)\n",
    "        )\n",
    "        cur.execute(\n",
    "            \"INSERT OR IGNORE INTO account_product (account_id, product_name) VALUES (?, ?)\",\n",
    "            (account['account_id'], product)\n",
    "        )\n",
    "conn.commit()"
   ]
  },
  {
   "cell_type": "code",
   "execution_count": 6,
   "id": "29555e94",
   "metadata": {},
   "outputs": [],
   "source": [
    "customers = load_json('sample_analytics.customers.json')"
   ]
  },
  {
   "cell_type": "code",
   "execution_count": 7,
   "id": "65d66772",
   "metadata": {},
   "outputs": [],
   "source": [
    "def parse_epoch(birthdate_field):\n",
    "    try:\n",
    "        date_data = birthdate_field['$date']\n",
    "\n",
    "        if isinstance(date_data, str):\n",
    "            return datetime.strptime(date_data[:10], '%Y-%m-%d').date()\n",
    "\n",
    "        # Epoch timestamp, vi la forma de hacerlo aqui https://stackoverflow.com/questions/17231711/how-to-create-datetime-from-a-negative-epoch-in-python\n",
    "        elif isinstance(date_data, dict) and '$numberLong' in date_data:\n",
    "            millis = int(date_data['$numberLong'])\n",
    "            seconds = millis / 1000\n",
    "            base = datetime(1970, 1, 1, tzinfo=timezone.utc)\n",
    "            return (base + timedelta(seconds=seconds)).date()\n",
    "\n",
    "    except Exception as e:\n",
    "        print(f\"Error parsing date: {birthdate_field} — {e}\")\n",
    "        return None"
   ]
  },
  {
   "cell_type": "code",
   "execution_count": 8,
   "id": "96de86f9",
   "metadata": {},
   "outputs": [],
   "source": [
    "for customer in customers:\n",
    "    birthdate = parse_epoch(customer['birthdate'])\n",
    "    birthdate_str = birthdate.isoformat() if birthdate else None\n",
    "    \n",
    "    cur.execute(\n",
    "        \"INSERT OR IGNORE INTO customer (username, name, address, birthdate, email) VALUES (?, ?, ?, ?, ?)\",\n",
    "        (customer['username'], customer['name'], customer['address'], birthdate_str, customer['email'])\n",
    "    )\n",
    "conn.commit()"
   ]
  },
  {
   "cell_type": "code",
   "execution_count": 9,
   "id": "ecd6e92f",
   "metadata": {},
   "outputs": [],
   "source": [
    "for customer in customers:\n",
    "    for account_id in customer['accounts']:\n",
    "        cur.execute(\n",
    "            \"INSERT OR IGNORE INTO customer_account (username, account_id) VALUES (?, ?)\",\n",
    "            (customer['username'], account_id)\n",
    "        )\n",
    "conn.commit()"
   ]
  },
  {
   "cell_type": "code",
   "execution_count": 10,
   "id": "75a0ad3b",
   "metadata": {},
   "outputs": [],
   "source": [
    "for customer in customers:\n",
    "    tier_details = customer.get('tier_and_details', {})\n",
    "    for tier_id, tier_info in tier_details.items():\n",
    "        cur.execute(\n",
    "            \"INSERT OR IGNORE INTO tier (tier_id, username, tier_name, active) VALUES (?, ?, ?, ?)\",\n",
    "            (tier_id, customer['username'], tier_info['tier'], tier_info['active'])\n",
    "        )\n",
    "        \n",
    "        for benefit in tier_info.get('benefits', []):\n",
    "            cur.execute(\n",
    "                \"INSERT OR IGNORE INTO benefit (benefit_name) VALUES (?)\",\n",
    "                (benefit,)\n",
    "            )\n",
    "            \n",
    "            cur.execute(\n",
    "                \"INSERT OR IGNORE INTO tier_benefit (tier_id, benefit_name) VALUES (?, ?)\",\n",
    "                (tier_id, benefit)\n",
    "            )\n",
    "conn.commit()"
   ]
  },
  {
   "cell_type": "code",
   "execution_count": 11,
   "id": "606e7970",
   "metadata": {},
   "outputs": [],
   "source": [
    "transactions = load_json('sample_analytics.transactions.json')"
   ]
  },
  {
   "cell_type": "code",
   "execution_count": 12,
   "id": "ceb0f1c0",
   "metadata": {},
   "outputs": [],
   "source": [
    "for entry in transactions:\n",
    "    account_id = entry[\"account_id\"]\n",
    "    \n",
    "    for tx in entry[\"transactions\"]:\n",
    "        tx_date = parse_epoch(tx[\"date\"])\n",
    "        tx_date_str = tx_date.isoformat() if birthdate else None\n",
    "        amount = tx[\"amount\"]\n",
    "        code = tx[\"transaction_code\"]\n",
    "        symbol = tx.get(\"symbol\", None)\n",
    "        price = float(tx[\"price\"])\n",
    "        total = float(tx[\"total\"])\n",
    "\n",
    "        cur.execute(\"\"\"\n",
    "            INSERT INTO transactions (\n",
    "                account_id, transaction_date, amount,\n",
    "                transaction_code, symbol, price, total\n",
    "            ) VALUES (?, ?, ?, ?, ?, ?, ?)\n",
    "        \"\"\", (\n",
    "            account_id, tx_date_str, amount,\n",
    "            code, symbol, price, total\n",
    "        ))\n",
    "\n",
    "conn.commit()"
   ]
  },
  {
   "cell_type": "code",
   "execution_count": 13,
   "id": "8b5bb736",
   "metadata": {},
   "outputs": [],
   "source": [
    "conn.close() "
   ]
  }
 ],
 "metadata": {
  "kernelspec": {
   "display_name": "Python 3",
   "language": "python",
   "name": "python3"
  },
  "language_info": {
   "codemirror_mode": {
    "name": "ipython",
    "version": 3
   },
   "file_extension": ".py",
   "mimetype": "text/x-python",
   "name": "python",
   "nbconvert_exporter": "python",
   "pygments_lexer": "ipython3",
   "version": "3.12.9"
  }
 },
 "nbformat": 4,
 "nbformat_minor": 5
}
